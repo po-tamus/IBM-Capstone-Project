{
 "cells": [
  {
   "attachments": {},
   "cell_type": "markdown",
   "metadata": {},
   "source": [
    "## Understanding the problem"
   ]
  },
  {
   "cell_type": "code",
   "execution_count": null,
   "metadata": {},
   "outputs": [],
   "source": [
    "#SpaceX launches cost around $60 million each. This is inexpensive relative to other aerospace companies since\n",
    "#the booster/propelling/ system/stage 1 of the rockets is reusable (able to land upright after use). The cost can only\n",
    "#be regulated if the landing of stage 1 is successful. Thus, the goal of the project is to calculate the \n",
    "#probability that stage 1 of a falcon 9 spaceX rocket will land successfully."
   ]
  },
  {
   "attachments": {},
   "cell_type": "markdown",
   "metadata": {},
   "source": [
    "## Which data is needed?"
   ]
  },
  {
   "cell_type": "code",
   "execution_count": null,
   "metadata": {},
   "outputs": [],
   "source": [
    "#It is essential to identify which data is needed to predict the outcome of a launch. The necessary data includes \n",
    "#information about previously used falcon 9 rockets such as the dimensions, launch sites, if the rocket was \n",
    "#reused, etc. "
   ]
  },
  {
   "attachments": {},
   "cell_type": "markdown",
   "metadata": {},
   "source": [
    "## Data collection and cleaning"
   ]
  },
  {
   "cell_type": "code",
   "execution_count": 1,
   "metadata": {},
   "outputs": [],
   "source": [
    "#After the necessary data is identified, it is collected from SpaceX's api via python's requests library. This \n",
    "#data is formatted into a pandas dataframe to be cleaned and prepared for analysis. Additional data is then scraped\n",
    "#from the falcon 9 wikipedia using beautiful soup (package for parsing html). "
   ]
  },
  {
   "attachments": {},
   "cell_type": "markdown",
   "metadata": {},
   "source": [
    "## "
   ]
  },
  {
   "attachments": {},
   "cell_type": "markdown",
   "metadata": {},
   "source": [
    "## further preparing and transforming the data + wrangling"
   ]
  },
  {
   "cell_type": "code",
   "execution_count": null,
   "metadata": {},
   "outputs": [],
   "source": [
    "#labeling each event in the data as landed or not landed by creating a new pandas dataframe. Then, performed exploratory\n",
    "#data analysis using sql on a spacex csv dataset."
   ]
  },
  {
   "attachments": {},
   "cell_type": "markdown",
   "metadata": {},
   "source": [
    "## Visualization of Data"
   ]
  },
  {
   "cell_type": "code",
   "execution_count": null,
   "metadata": {},
   "outputs": [],
   "source": [
    "#used matplotlib to visualize the data in the prepared pandas dataframe. This includes using scatter, bar, and line charts\n",
    "#to find relationships between variables like booster type, payload mass, success rate, etc."
   ]
  },
  {
   "attachments": {},
   "cell_type": "markdown",
   "metadata": {},
   "source": [
    "## Mapping the Data using each launch site"
   ]
  },
  {
   "cell_type": "code",
   "execution_count": null,
   "metadata": {},
   "outputs": [],
   "source": [
    "#used folium to produce a map with markers on each spacex launch site (california and florida). Used the markers to organize and\n",
    "#visualize data such as successes and failures at each site."
   ]
  },
  {
   "attachments": {},
   "cell_type": "markdown",
   "metadata": {},
   "source": [
    "## Plotly dashboard"
   ]
  },
  {
   "cell_type": "code",
   "execution_count": 1,
   "metadata": {},
   "outputs": [],
   "source": [
    "#used plotly to create a dashboard to visually represent the relationships between launch site and success through pie charts and \n",
    "#payload mass and success through scatter charts"
   ]
  },
  {
   "attachments": {},
   "cell_type": "markdown",
   "metadata": {},
   "source": [
    "## Developing a machine learning model"
   ]
  },
  {
   "cell_type": "code",
   "execution_count": null,
   "metadata": {},
   "outputs": [],
   "source": [
    "#split the data into training and testing groups. test models based on logistic regression, a support vector machine,\n",
    "#a decision tree classifier, and k-nearest neighbors. Lastly, ouput a confusion matrix."
   ]
  }
 ],
 "metadata": {
  "kernelspec": {
   "display_name": "Python 3",
   "language": "python",
   "name": "python3"
  },
  "language_info": {
   "codemirror_mode": {
    "name": "ipython",
    "version": 3
   },
   "file_extension": ".py",
   "mimetype": "text/x-python",
   "name": "python",
   "nbconvert_exporter": "python",
   "pygments_lexer": "ipython3",
   "version": "3.10.11"
  },
  "orig_nbformat": 4
 },
 "nbformat": 4,
 "nbformat_minor": 2
}
